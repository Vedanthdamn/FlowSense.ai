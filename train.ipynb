{
 "cells": [
  {
   "cell_type": "markdown",
   "metadata": {},
   "source": [
    "# YOLOv8 Training for Vehicle Detection\n",
    "This notebook demonstrates how to fine-tune YOLOv8 for traffic vehicle detection\n",
    "\n",
    "## Dataset\n",
    "We'll use a vehicle detection dataset from Kaggle:\n",
    "- **Dataset Link**: https://www.kaggle.com/datasets/sshikamaru/car-object-detection\n",
    "- Alternative: https://www.kaggle.com/datasets/dataclusterlabs/vehicle-detection-image-dataset\n",
    "\n",
    "## Requirements\n",
    "- ultralytics\n",
    "- PyTorch\n",
    "- OpenCV"
   ]
  },
  {
   "cell_type": "code",
   "execution_count": null,
   "metadata": {},
   "outputs": [],
   "source": [
    "# Install required packages\n",
    "!pip install ultralytics torch torchvision opencv-python"
   ]
  },
  {
   "cell_type": "code",
   "execution_count": null,
   "metadata": {},
   "outputs": [],
   "source": [
    "from ultralytics import YOLO\n",
    "import os\n",
    "import torch\n",
    "\n",
    "print(f\"PyTorch version: {torch.__version__}\")\n",
    "print(f\"CUDA available: {torch.cuda.is_available()}\")\n",
    "if torch.cuda.is_available():\n",
    "    print(f\"CUDA device: {torch.cuda.get_device_name(0)}\")"
   ]
  },
  {
   "cell_type": "markdown",
   "metadata": {},
   "source": [
    "## Step 1: Download and Prepare Dataset\n",
    "\n",
    "### Dataset Structure\n",
    "```\n",
    "vehicle_dataset/\n",
    "├── images/\n",
    "│   ├── train/\n",
    "│   └── val/\n",
    "└── labels/\n",
    "    ├── train/\n",
    "    └── val/\n",
    "```\n",
    "\n",
    "### Download from Kaggle\n",
    "1. Install Kaggle API: `pip install kaggle`\n",
    "2. Setup Kaggle credentials: Place `kaggle.json` in `~/.kaggle/`\n",
    "3. Download dataset:\n",
    "```bash\n",
    "kaggle datasets download -d sshikamaru/car-object-detection\n",
    "unzip car-object-detection.zip -d vehicle_dataset\n",
    "```"
   ]
  },
  {
   "cell_type": "code",
   "execution_count": null,
   "metadata": {},
   "outputs": [],
   "source": [
    "# Create dataset configuration file\n",
    "dataset_yaml = \"\"\"\n",
    "path: /path/to/vehicle_dataset  # Update this path\n",
    "train: images/train\n",
    "val: images/val\n",
    "\n",
    "# Classes\n",
    "nc: 4  # number of classes\n",
    "names: ['car', 'motorcycle', 'bus', 'truck']  # class names\n",
    "\"\"\"\n",
    "\n",
    "with open('vehicle_data.yaml', 'w') as f:\n",
    "    f.write(dataset_yaml)\n",
    "\n",
    "print(\"Dataset configuration created: vehicle_data.yaml\")"
   ]
  },
  {
   "cell_type": "markdown",
   "metadata": {},
   "source": [
    "## Step 2: Load Pretrained YOLOv8 Model"
   ]
  },
  {
   "cell_type": "code",
   "execution_count": null,
   "metadata": {},
   "outputs": [],
   "source": [
    "# Load a pretrained YOLOv8 model\n",
    "# Options: yolov8n.pt (nano), yolov8s.pt (small), yolov8m.pt (medium), yolov8l.pt (large)\n",
    "model = YOLO('yolov8n.pt')  # nano version for faster training\n",
    "\n",
    "print(\"Model loaded successfully!\")\n",
    "print(f\"Model architecture: {model.model}\")"
   ]
  },
  {
   "cell_type": "markdown",
   "metadata": {},
   "source": [
    "## Step 3: Train the Model"
   ]
  },
  {
   "cell_type": "code",
   "execution_count": null,
   "metadata": {},
   "outputs": [],
   "source": [
    "# Training configuration\n",
    "results = model.train(\n",
    "    data='vehicle_data.yaml',  # path to dataset YAML\n",
    "    epochs=50,                  # number of training epochs\n",
    "    imgsz=640,                  # image size\n",
    "    batch=16,                   # batch size (adjust based on GPU memory)\n",
    "    name='vehicle_detection',   # project name\n",
    "    patience=10,                # early stopping patience\n",
    "    save=True,                  # save checkpoints\n",
    "    device='mps',               # use 'mps' for Apple Silicon, 'cuda' for NVIDIA GPU, 'cpu' for CPU\n",
    "    workers=4,                  # number of dataloader workers\n",
    "    pretrained=True,            # use pretrained weights\n",
    "    optimizer='Adam',           # optimizer (Adam, SGD, etc.)\n",
    "    lr0=0.001,                  # initial learning rate\n",
    "    lrf=0.01,                   # final learning rate\n",
    "    momentum=0.937,             # momentum\n",
    "    weight_decay=0.0005,        # weight decay\n",
    "    warmup_epochs=3,            # warmup epochs\n",
    "    warmup_momentum=0.8,        # warmup momentum\n",
    "    box=7.5,                    # box loss gain\n",
    "    cls=0.5,                    # classification loss gain\n",
    "    plots=True                  # save training plots\n",
    ")\n",
    "\n",
    "print(\"Training completed!\")"
   ]
  },
  {
   "cell_type": "markdown",
   "metadata": {},
   "source": [
    "## Step 4: Validate the Model"
   ]
  },
  {
   "cell_type": "code",
   "execution_count": null,
   "metadata": {},
   "outputs": [],
   "source": [
    "# Validate the trained model\n",
    "metrics = model.val()\n",
    "\n",
    "print(f\"mAP50: {metrics.box.map50}\")\n",
    "print(f\"mAP50-95: {metrics.box.map}\")"
   ]
  },
  {
   "cell_type": "markdown",
   "metadata": {},
   "source": [
    "## Step 5: Test Inference"
   ]
  },
  {
   "cell_type": "code",
   "execution_count": null,
   "metadata": {},
   "outputs": [],
   "source": [
    "# Test on a sample image\n",
    "results = model.predict(\n",
    "    source='path/to/test/image.jpg',\n",
    "    save=True,\n",
    "    conf=0.25,  # confidence threshold\n",
    "    iou=0.45    # NMS IOU threshold\n",
    ")\n",
    "\n",
    "# Display results\n",
    "for result in results:\n",
    "    print(f\"Detected {len(result.boxes)} objects\")\n",
    "    result.show()"
   ]
  },
  {
   "cell_type": "markdown",
   "metadata": {},
   "source": [
    "## Step 6: Export Model"
   ]
  },
  {
   "cell_type": "code",
   "execution_count": null,
   "metadata": {},
   "outputs": [],
   "source": [
    "# Export trained model to different formats\n",
    "\n",
    "# Export to ONNX (for deployment)\n",
    "model.export(format='onnx')\n",
    "\n",
    "# Export to TorchScript (for PyTorch deployment)\n",
    "model.export(format='torchscript')\n",
    "\n",
    "# Export to CoreML (for iOS/macOS)\n",
    "model.export(format='coreml')\n",
    "\n",
    "print(\"Model exported successfully!\")"
   ]
  },
  {
   "cell_type": "markdown",
   "metadata": {},
   "source": [
    "## Step 7: Save Best Weights"
   ]
  },
  {
   "cell_type": "code",
   "execution_count": null,
   "metadata": {},
   "outputs": [],
   "source": [
    "# The best weights are automatically saved during training\n",
    "# Location: runs/detect/vehicle_detection/weights/best.pt\n",
    "\n",
    "import shutil\n",
    "\n",
    "# Copy best weights to backend folder\n",
    "source = 'runs/detect/vehicle_detection/weights/best.pt'\n",
    "destination = '../backend/yolov8_custom.pt'\n",
    "\n",
    "shutil.copy(source, destination)\n",
    "print(f\"Best weights copied to {destination}\")"
   ]
  },
  {
   "cell_type": "markdown",
   "metadata": {},
   "source": [
    "## Alternative: Using Pretrained COCO Model\n",
    "\n",
    "If you don't want to train a custom model, you can use the pretrained YOLOv8 model trained on COCO dataset which already includes vehicle classes:\n",
    "- car (class 2)\n",
    "- motorcycle (class 3)\n",
    "- bus (class 5)\n",
    "- truck (class 7)\n",
    "\n",
    "Simply use `yolov8n.pt`, `yolov8s.pt`, or `yolov8m.pt` directly in your application!"
   ]
  },
  {
   "cell_type": "code",
   "execution_count": null,
   "metadata": {},
   "outputs": [],
   "source": [
    "# Download and save pretrained model\n",
    "pretrained_model = YOLO('yolov8n.pt')\n",
    "print(\"Pretrained model ready to use!\")\n",
    "print(\"Classes:\", pretrained_model.names)"
   ]
  }
 ],
 "metadata": {
  "kernelspec": {
   "display_name": "Python 3",
   "language": "python",
   "name": "python3"
  },
  "language_info": {
   "codemirror_mode": {
    "name": "ipython",
    "version": 3
   },
   "file_extension": ".py",
   "mimetype": "text/x-python",
   "name": "python",
   "nbconvert_exporter": "python",
   "pygments_lexer": "ipython3",
   "version": "3.10.0"
  }
 },
 "nbformat": 4,
 "nbformat_minor": 4
}
